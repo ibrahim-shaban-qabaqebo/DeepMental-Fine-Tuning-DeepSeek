{
  "cells": [
    {
      "cell_type": "markdown",
      "metadata": {
        "id": "BVvXgF3LtNEV"
      },
      "source": [
        "Install the necessary libraries:"
      ]
    },
    {
      "cell_type": "code",
      "execution_count": 1,
      "metadata": {
        "colab": {
          "base_uri": "https://localhost:8080/"
        },
        "id": "WawjU9bJtJws",
        "outputId": "c0da1196-30ff-4550-8409-5ed4776b67ee"
      },
      "outputs": [
        {
          "name": "stdout",
          "output_type": "stream",
          "text": [
            "Collecting datasets\n",
            "  Downloading datasets-3.3.2-py3-none-any.whl.metadata (19 kB)\n",
            "Requirement already satisfied: pandas in /usr/local/lib/python3.11/dist-packages (2.2.2)\n",
            "Requirement already satisfied: filelock in /usr/local/lib/python3.11/dist-packages (from datasets) (3.17.0)\n",
            "Requirement already satisfied: numpy>=1.17 in /usr/local/lib/python3.11/dist-packages (from datasets) (1.26.4)\n",
            "Requirement already satisfied: pyarrow>=15.0.0 in /usr/local/lib/python3.11/dist-packages (from datasets) (17.0.0)\n",
            "Collecting dill<0.3.9,>=0.3.0 (from datasets)\n",
            "  Downloading dill-0.3.8-py3-none-any.whl.metadata (10 kB)\n",
            "Requirement already satisfied: requests>=2.32.2 in /usr/local/lib/python3.11/dist-packages (from datasets) (2.32.3)\n",
            "Requirement already satisfied: tqdm>=4.66.3 in /usr/local/lib/python3.11/dist-packages (from datasets) (4.67.1)\n",
            "Collecting xxhash (from datasets)\n",
            "  Downloading xxhash-3.5.0-cp311-cp311-manylinux_2_17_x86_64.manylinux2014_x86_64.whl.metadata (12 kB)\n",
            "Collecting multiprocess<0.70.17 (from datasets)\n",
            "  Downloading multiprocess-0.70.16-py311-none-any.whl.metadata (7.2 kB)\n",
            "Requirement already satisfied: fsspec<=2024.12.0,>=2023.1.0 in /usr/local/lib/python3.11/dist-packages (from fsspec[http]<=2024.12.0,>=2023.1.0->datasets) (2024.10.0)\n",
            "Requirement already satisfied: aiohttp in /usr/local/lib/python3.11/dist-packages (from datasets) (3.11.12)\n",
            "Requirement already satisfied: huggingface-hub>=0.24.0 in /usr/local/lib/python3.11/dist-packages (from datasets) (0.28.1)\n",
            "Requirement already satisfied: packaging in /usr/local/lib/python3.11/dist-packages (from datasets) (24.2)\n",
            "Requirement already satisfied: pyyaml>=5.1 in /usr/local/lib/python3.11/dist-packages (from datasets) (6.0.2)\n",
            "Requirement already satisfied: python-dateutil>=2.8.2 in /usr/local/lib/python3.11/dist-packages (from pandas) (2.8.2)\n",
            "Requirement already satisfied: pytz>=2020.1 in /usr/local/lib/python3.11/dist-packages (from pandas) (2025.1)\n",
            "Requirement already satisfied: tzdata>=2022.7 in /usr/local/lib/python3.11/dist-packages (from pandas) (2025.1)\n",
            "Requirement already satisfied: aiohappyeyeballs>=2.3.0 in /usr/local/lib/python3.11/dist-packages (from aiohttp->datasets) (2.4.6)\n",
            "Requirement already satisfied: aiosignal>=1.1.2 in /usr/local/lib/python3.11/dist-packages (from aiohttp->datasets) (1.3.2)\n",
            "Requirement already satisfied: attrs>=17.3.0 in /usr/local/lib/python3.11/dist-packages (from aiohttp->datasets) (25.1.0)\n",
            "Requirement already satisfied: frozenlist>=1.1.1 in /usr/local/lib/python3.11/dist-packages (from aiohttp->datasets) (1.5.0)\n",
            "Requirement already satisfied: multidict<7.0,>=4.5 in /usr/local/lib/python3.11/dist-packages (from aiohttp->datasets) (6.1.0)\n",
            "Requirement already satisfied: propcache>=0.2.0 in /usr/local/lib/python3.11/dist-packages (from aiohttp->datasets) (0.2.1)\n",
            "Requirement already satisfied: yarl<2.0,>=1.17.0 in /usr/local/lib/python3.11/dist-packages (from aiohttp->datasets) (1.18.3)\n",
            "Requirement already satisfied: typing-extensions>=3.7.4.3 in /usr/local/lib/python3.11/dist-packages (from huggingface-hub>=0.24.0->datasets) (4.12.2)\n",
            "Requirement already satisfied: six>=1.5 in /usr/local/lib/python3.11/dist-packages (from python-dateutil>=2.8.2->pandas) (1.17.0)\n",
            "Requirement already satisfied: charset-normalizer<4,>=2 in /usr/local/lib/python3.11/dist-packages (from requests>=2.32.2->datasets) (3.4.1)\n",
            "Requirement already satisfied: idna<4,>=2.5 in /usr/local/lib/python3.11/dist-packages (from requests>=2.32.2->datasets) (3.10)\n",
            "Requirement already satisfied: urllib3<3,>=1.21.1 in /usr/local/lib/python3.11/dist-packages (from requests>=2.32.2->datasets) (2.3.0)\n",
            "Requirement already satisfied: certifi>=2017.4.17 in /usr/local/lib/python3.11/dist-packages (from requests>=2.32.2->datasets) (2025.1.31)\n",
            "Downloading datasets-3.3.2-py3-none-any.whl (485 kB)\n",
            "\u001b[2K   \u001b[90m━━━━━━━━━━━━━━━━━━━━━━━━━━━━━━━━━━━━━━━━\u001b[0m \u001b[32m485.4/485.4 kB\u001b[0m \u001b[31m19.3 MB/s\u001b[0m eta \u001b[36m0:00:00\u001b[0m\n",
            "\u001b[?25hDownloading dill-0.3.8-py3-none-any.whl (116 kB)\n",
            "\u001b[2K   \u001b[90m━━━━━━━━━━━━━━━━━━━━━━━━━━━━━━━━━━━━━━━━\u001b[0m \u001b[32m116.3/116.3 kB\u001b[0m \u001b[31m9.5 MB/s\u001b[0m eta \u001b[36m0:00:00\u001b[0m\n",
            "\u001b[?25hDownloading multiprocess-0.70.16-py311-none-any.whl (143 kB)\n",
            "\u001b[2K   \u001b[90m━━━━━━━━━━━━━━━━━━━━━━━━━━━━━━━━━━━━━━━━\u001b[0m \u001b[32m143.5/143.5 kB\u001b[0m \u001b[31m9.1 MB/s\u001b[0m eta \u001b[36m0:00:00\u001b[0m\n",
            "\u001b[?25hDownloading xxhash-3.5.0-cp311-cp311-manylinux_2_17_x86_64.manylinux2014_x86_64.whl (194 kB)\n",
            "\u001b[2K   \u001b[90m━━━━━━━━━━━━━━━━━━━━━━━━━━━━━━━━━━━━━━━━\u001b[0m \u001b[32m194.8/194.8 kB\u001b[0m \u001b[31m12.4 MB/s\u001b[0m eta \u001b[36m0:00:00\u001b[0m\n",
            "\u001b[?25hInstalling collected packages: xxhash, dill, multiprocess, datasets\n",
            "Successfully installed datasets-3.3.2 dill-0.3.8 multiprocess-0.70.16 xxhash-3.5.0\n"
          ]
        }
      ],
      "source": [
        "!pip install datasets pandas\n",
        "\n"
      ]
    },
    {
      "cell_type": "markdown",
      "metadata": {
        "id": "72Nw8NZYtQ4i"
      },
      "source": [
        "Import the libraries:"
      ]
    },
    {
      "cell_type": "code",
      "execution_count": 2,
      "metadata": {
        "id": "kMrje-SitKoV"
      },
      "outputs": [],
      "source": [
        "from datasets import load_dataset\n",
        "import pandas as pd\n"
      ]
    },
    {
      "cell_type": "code",
      "execution_count": 32,
      "metadata": {
        "id": "jvQh5vQotSaI"
      },
      "outputs": [],
      "source": [
        "# Load the 'mpingale/mental-health-chat-dataset'\n",
        "mental_health_chat = load_dataset(\"mpingale/mental-health-chat-dataset\")\n"
      ]
    },
    {
      "cell_type": "code",
      "execution_count": 33,
      "metadata": {
        "id": "3zgARdSRtaXz"
      },
      "outputs": [],
      "source": [
        "# Load the 'Kiran2004/MentalHealthConversations'\n",
        "mental_health_conversations = load_dataset(\"Kiran2004/MentalHealthConversations\")\n"
      ]
    },
    {
      "cell_type": "code",
      "execution_count": 34,
      "metadata": {
        "colab": {
          "base_uri": "https://localhost:8080/"
        },
        "id": "abOI3fYNtcRS",
        "outputId": "064eb820-6a54-4359-9910-c0fb3472dbf9"
      },
      "outputs": [
        {
          "name": "stderr",
          "output_type": "stream",
          "text": [
            "Repo card metadata block was not found. Setting CardData to empty.\n",
            "WARNING:huggingface_hub.repocard:Repo card metadata block was not found. Setting CardData to empty.\n"
          ]
        }
      ],
      "source": [
        "# Load the 'nbertagnolli/counsel-chat'\n",
        "counsel_chat = load_dataset(\"nbertagnolli/counsel-chat\")\n"
      ]
    },
    {
      "cell_type": "code",
      "execution_count": 35,
      "metadata": {
        "id": "cvfFhJ3etd4w"
      },
      "outputs": [],
      "source": [
        "import pandas as pd\n",
        "\n",
        "csv_file_path = \"2. Conversations - AnnoMI-full.csv\"\n",
        "csv_data = pd.read_csv(csv_file_path, delimiter=';', encoding='utf-8')"
      ]
    },
    {
      "cell_type": "code",
      "execution_count": 36,
      "metadata": {
        "id": "EsY5MEekto1W"
      },
      "outputs": [],
      "source": [
        "# For 'mpingale/mental-health-chat-dataset'\n",
        "mental_health_chat = mental_health_chat.rename_column('questionText', 'input') \\\n",
        "                                       .rename_column('answerText', 'output')\n",
        "\n",
        "# For 'Kiran2004/MentalHealthConversations'\n",
        "mental_health_conversations = mental_health_conversations.rename_column('Questions', 'input') \\\n",
        "                                                         .rename_column('Answers', 'output')\n",
        "\n",
        "\n",
        "# Filter out rows where interlocutor is 'client' and 'therapist'\n",
        "client_data = csv_data[csv_data['interlocutor'] == 'client']\n",
        "therapist_data = csv_data[csv_data['interlocutor'] == 'therapist']\n",
        "\n",
        "# Rename the columns to 'input' and 'output'\n",
        "client_data = client_data.rename(columns={'utterance_text': 'input'})\n",
        "therapist_data = therapist_data.rename(columns={'utterance_text': 'output'})\n",
        "\n",
        "# Combine client and therapist data\n",
        "combined_data = pd.concat([client_data[['input']], therapist_data[['output']]], axis=1)\n"
      ]
    },
    {
      "cell_type": "code",
      "execution_count": 37,
      "metadata": {
        "colab": {
          "base_uri": "https://localhost:8080/",
          "height": 206
        },
        "id": "srd2hrfcv3p7",
        "outputId": "5514ec71-7e5d-42bc-fa7d-78ec5272dbc9"
      },
      "outputs": [
        {
          "data": {
            "application/vnd.google.colaboratory.intrinsic+json": {
              "summary": "{\n  \"name\": \"final_combined_df\",\n  \"rows\": 19929,\n  \"fields\": [\n    {\n      \"column\": \"input\",\n      \"properties\": {\n        \"dtype\": \"category\",\n        \"num_unique_values\": 4713,\n        \"samples\": [\n          \"I know you hate me\",\n          \"Um, but I've been to the health shop and-and they've been really helpful. They've given me lots of different, um, tablets and medicines-\",\n          \"No. I mean, there's different situations, you know. Sometimes they ask and, you know, I'll say something like, you know, \\\"We'll discuss at interview\\\". Uh, sometimes, there are situations where if I probably put that, I don't get a callback and those situations I don't know about. You know, but there are also times where I get an interview through, um, you know, uh, uh, some sort of connection or something, or like a buddy of mine or a family member will send me on an interview. You know, I don't have to fill it out- fill out an application for that. They just usually, you know, give you the interview. And at the end-\"\n        ],\n        \"semantic_type\": \"\",\n        \"description\": \"\"\n      }\n    },\n    {\n      \"column\": \"output\",\n      \"properties\": {\n        \"dtype\": \"category\",\n        \"num_unique_values\": 6934,\n        \"samples\": [\n          \"W-why was that? Why was that helpful?\",\n          \"A personality disorder is a pattern of thoughts, feelings, and behaviours that last for a long time and causes some sort of problem or distress. \\n Obsessive-compulsive personality disorder or OCPD is about control. People with OCPD have very inflexible thinking and expect everything to be ordered, perfect, and done their \\\"correct\\\" way. This happens at the expense of other important things in life, including relationships with others. Work can take priority over every other part of life, too, and people with OCPD may seem excessively dedicated, but may be unable to complete tasks due to perfectionism. They may struggle to delegate and may distrust other people\\u2019s contributions. People with OCPD may not tolerate uncertainty and may have a very rigid understanding of the world\\u2014something is either right or wrong. They may also have a hard time spending money on themselves or others, and they may experience hoarding, the inability to throw away items from their homes. The conflict between the desire for neatness or order and the inability to throw things out may cause a lot of anxiety. \\n While obsessive-compulsive personality disorder and obsessive-compulsive disorder (OCD) have a similar name, they are not the same illness. People with obsessive-compulsive disorder usually understand that their obsessions and compulsions are illogical and usually experience a lot of distress, even though they may not be able to stop obsessions or compulsions. Compulsions are an attempt to reduce anxiety, not to find pleasure. People with obsessive-compulsive personality disorder may view their thoughts as part of who they are, see their thoughts as logical, and may find pleasure or benefit in completing compulsive tasks. They may experience a lot of distress when they can\\u2019t achieve control or the perfectionism they want. \\n Obsessive-compulsive personality disorder is one of the most common personality disorders. Treatment may include some combination of psychotherapy, medication, and self-help strategies. To find help for OCPD, talk to your family doctor, find a psychologist through the BC Psychological Association, or call 811 to talk to a HealthLink BC navigator.\",\n          \"I've heard people say that they cut themselves as a way to feel relief from different emotions. You're also right that when you try to focus on just not cutting, it becomes more difficult because it's what you are focused on. While that is still something to work on, it may also be helpful to find something else you can do instead. You said drawing doesn't work for you. Sometimes more physical activities, such as doing a few jumping jacks, can be helpful. If you don't exercise, it might be something to talk with your doctor about first.The more you can learn about what makes you want to cut, the easier it will be to find out what you could do to change that. Try talking to somebody about what you are feeling in addition to the urge to cut.\"\n        ],\n        \"semantic_type\": \"\",\n        \"description\": \"\"\n      }\n    }\n  ]\n}",
              "type": "dataframe",
              "variable_name": "final_combined_df"
            },
            "text/html": [
              "\n",
              "  <div id=\"df-ce884dca-98f0-4251-900b-7aec563f1215\" class=\"colab-df-container\">\n",
              "    <div>\n",
              "<style scoped>\n",
              "    .dataframe tbody tr th:only-of-type {\n",
              "        vertical-align: middle;\n",
              "    }\n",
              "\n",
              "    .dataframe tbody tr th {\n",
              "        vertical-align: top;\n",
              "    }\n",
              "\n",
              "    .dataframe thead th {\n",
              "        text-align: right;\n",
              "    }\n",
              "</style>\n",
              "<table border=\"1\" class=\"dataframe\">\n",
              "  <thead>\n",
              "    <tr style=\"text-align: right;\">\n",
              "      <th></th>\n",
              "      <th>input</th>\n",
              "      <th>output</th>\n",
              "    </tr>\n",
              "  </thead>\n",
              "  <tbody>\n",
              "    <tr>\n",
              "      <th>0</th>\n",
              "      <td>I have so many issues to address. I have a his...</td>\n",
              "      <td>It is very common for people to have multiple ...</td>\n",
              "    </tr>\n",
              "    <tr>\n",
              "      <th>1</th>\n",
              "      <td>I have so many issues to address. I have a his...</td>\n",
              "      <td>I've never heard of someone having \"too many i...</td>\n",
              "    </tr>\n",
              "    <tr>\n",
              "      <th>2</th>\n",
              "      <td>I have so many issues to address. I have a his...</td>\n",
              "      <td>Absolutely not.  I strongly recommending worki...</td>\n",
              "    </tr>\n",
              "    <tr>\n",
              "      <th>3</th>\n",
              "      <td>I have so many issues to address. I have a his...</td>\n",
              "      <td>Let me start by saying there are never too man...</td>\n",
              "    </tr>\n",
              "    <tr>\n",
              "      <th>4</th>\n",
              "      <td>I have so many issues to address. I have a his...</td>\n",
              "      <td>I just want to acknowledge you for the courage...</td>\n",
              "    </tr>\n",
              "  </tbody>\n",
              "</table>\n",
              "</div>\n",
              "    <div class=\"colab-df-buttons\">\n",
              "\n",
              "  <div class=\"colab-df-container\">\n",
              "    <button class=\"colab-df-convert\" onclick=\"convertToInteractive('df-ce884dca-98f0-4251-900b-7aec563f1215')\"\n",
              "            title=\"Convert this dataframe to an interactive table.\"\n",
              "            style=\"display:none;\">\n",
              "\n",
              "  <svg xmlns=\"http://www.w3.org/2000/svg\" height=\"24px\" viewBox=\"0 -960 960 960\">\n",
              "    <path d=\"M120-120v-720h720v720H120Zm60-500h600v-160H180v160Zm220 220h160v-160H400v160Zm0 220h160v-160H400v160ZM180-400h160v-160H180v160Zm440 0h160v-160H620v160ZM180-180h160v-160H180v160Zm440 0h160v-160H620v160Z\"/>\n",
              "  </svg>\n",
              "    </button>\n",
              "\n",
              "  <style>\n",
              "    .colab-df-container {\n",
              "      display:flex;\n",
              "      gap: 12px;\n",
              "    }\n",
              "\n",
              "    .colab-df-convert {\n",
              "      background-color: #E8F0FE;\n",
              "      border: none;\n",
              "      border-radius: 50%;\n",
              "      cursor: pointer;\n",
              "      display: none;\n",
              "      fill: #1967D2;\n",
              "      height: 32px;\n",
              "      padding: 0 0 0 0;\n",
              "      width: 32px;\n",
              "    }\n",
              "\n",
              "    .colab-df-convert:hover {\n",
              "      background-color: #E2EBFA;\n",
              "      box-shadow: 0px 1px 2px rgba(60, 64, 67, 0.3), 0px 1px 3px 1px rgba(60, 64, 67, 0.15);\n",
              "      fill: #174EA6;\n",
              "    }\n",
              "\n",
              "    .colab-df-buttons div {\n",
              "      margin-bottom: 4px;\n",
              "    }\n",
              "\n",
              "    [theme=dark] .colab-df-convert {\n",
              "      background-color: #3B4455;\n",
              "      fill: #D2E3FC;\n",
              "    }\n",
              "\n",
              "    [theme=dark] .colab-df-convert:hover {\n",
              "      background-color: #434B5C;\n",
              "      box-shadow: 0px 1px 3px 1px rgba(0, 0, 0, 0.15);\n",
              "      filter: drop-shadow(0px 1px 2px rgba(0, 0, 0, 0.3));\n",
              "      fill: #FFFFFF;\n",
              "    }\n",
              "  </style>\n",
              "\n",
              "    <script>\n",
              "      const buttonEl =\n",
              "        document.querySelector('#df-ce884dca-98f0-4251-900b-7aec563f1215 button.colab-df-convert');\n",
              "      buttonEl.style.display =\n",
              "        google.colab.kernel.accessAllowed ? 'block' : 'none';\n",
              "\n",
              "      async function convertToInteractive(key) {\n",
              "        const element = document.querySelector('#df-ce884dca-98f0-4251-900b-7aec563f1215');\n",
              "        const dataTable =\n",
              "          await google.colab.kernel.invokeFunction('convertToInteractive',\n",
              "                                                    [key], {});\n",
              "        if (!dataTable) return;\n",
              "\n",
              "        const docLinkHtml = 'Like what you see? Visit the ' +\n",
              "          '<a target=\"_blank\" href=https://colab.research.google.com/notebooks/data_table.ipynb>data table notebook</a>'\n",
              "          + ' to learn more about interactive tables.';\n",
              "        element.innerHTML = '';\n",
              "        dataTable['output_type'] = 'display_data';\n",
              "        await google.colab.output.renderOutput(dataTable, element);\n",
              "        const docLink = document.createElement('div');\n",
              "        docLink.innerHTML = docLinkHtml;\n",
              "        element.appendChild(docLink);\n",
              "      }\n",
              "    </script>\n",
              "  </div>\n",
              "\n",
              "\n",
              "<div id=\"df-07b778b8-d397-4925-950a-9bd1f2fecf7f\">\n",
              "  <button class=\"colab-df-quickchart\" onclick=\"quickchart('df-07b778b8-d397-4925-950a-9bd1f2fecf7f')\"\n",
              "            title=\"Suggest charts\"\n",
              "            style=\"display:none;\">\n",
              "\n",
              "<svg xmlns=\"http://www.w3.org/2000/svg\" height=\"24px\"viewBox=\"0 0 24 24\"\n",
              "     width=\"24px\">\n",
              "    <g>\n",
              "        <path d=\"M19 3H5c-1.1 0-2 .9-2 2v14c0 1.1.9 2 2 2h14c1.1 0 2-.9 2-2V5c0-1.1-.9-2-2-2zM9 17H7v-7h2v7zm4 0h-2V7h2v10zm4 0h-2v-4h2v4z\"/>\n",
              "    </g>\n",
              "</svg>\n",
              "  </button>\n",
              "\n",
              "<style>\n",
              "  .colab-df-quickchart {\n",
              "      --bg-color: #E8F0FE;\n",
              "      --fill-color: #1967D2;\n",
              "      --hover-bg-color: #E2EBFA;\n",
              "      --hover-fill-color: #174EA6;\n",
              "      --disabled-fill-color: #AAA;\n",
              "      --disabled-bg-color: #DDD;\n",
              "  }\n",
              "\n",
              "  [theme=dark] .colab-df-quickchart {\n",
              "      --bg-color: #3B4455;\n",
              "      --fill-color: #D2E3FC;\n",
              "      --hover-bg-color: #434B5C;\n",
              "      --hover-fill-color: #FFFFFF;\n",
              "      --disabled-bg-color: #3B4455;\n",
              "      --disabled-fill-color: #666;\n",
              "  }\n",
              "\n",
              "  .colab-df-quickchart {\n",
              "    background-color: var(--bg-color);\n",
              "    border: none;\n",
              "    border-radius: 50%;\n",
              "    cursor: pointer;\n",
              "    display: none;\n",
              "    fill: var(--fill-color);\n",
              "    height: 32px;\n",
              "    padding: 0;\n",
              "    width: 32px;\n",
              "  }\n",
              "\n",
              "  .colab-df-quickchart:hover {\n",
              "    background-color: var(--hover-bg-color);\n",
              "    box-shadow: 0 1px 2px rgba(60, 64, 67, 0.3), 0 1px 3px 1px rgba(60, 64, 67, 0.15);\n",
              "    fill: var(--button-hover-fill-color);\n",
              "  }\n",
              "\n",
              "  .colab-df-quickchart-complete:disabled,\n",
              "  .colab-df-quickchart-complete:disabled:hover {\n",
              "    background-color: var(--disabled-bg-color);\n",
              "    fill: var(--disabled-fill-color);\n",
              "    box-shadow: none;\n",
              "  }\n",
              "\n",
              "  .colab-df-spinner {\n",
              "    border: 2px solid var(--fill-color);\n",
              "    border-color: transparent;\n",
              "    border-bottom-color: var(--fill-color);\n",
              "    animation:\n",
              "      spin 1s steps(1) infinite;\n",
              "  }\n",
              "\n",
              "  @keyframes spin {\n",
              "    0% {\n",
              "      border-color: transparent;\n",
              "      border-bottom-color: var(--fill-color);\n",
              "      border-left-color: var(--fill-color);\n",
              "    }\n",
              "    20% {\n",
              "      border-color: transparent;\n",
              "      border-left-color: var(--fill-color);\n",
              "      border-top-color: var(--fill-color);\n",
              "    }\n",
              "    30% {\n",
              "      border-color: transparent;\n",
              "      border-left-color: var(--fill-color);\n",
              "      border-top-color: var(--fill-color);\n",
              "      border-right-color: var(--fill-color);\n",
              "    }\n",
              "    40% {\n",
              "      border-color: transparent;\n",
              "      border-right-color: var(--fill-color);\n",
              "      border-top-color: var(--fill-color);\n",
              "    }\n",
              "    60% {\n",
              "      border-color: transparent;\n",
              "      border-right-color: var(--fill-color);\n",
              "    }\n",
              "    80% {\n",
              "      border-color: transparent;\n",
              "      border-right-color: var(--fill-color);\n",
              "      border-bottom-color: var(--fill-color);\n",
              "    }\n",
              "    90% {\n",
              "      border-color: transparent;\n",
              "      border-bottom-color: var(--fill-color);\n",
              "    }\n",
              "  }\n",
              "</style>\n",
              "\n",
              "  <script>\n",
              "    async function quickchart(key) {\n",
              "      const quickchartButtonEl =\n",
              "        document.querySelector('#' + key + ' button');\n",
              "      quickchartButtonEl.disabled = true;  // To prevent multiple clicks.\n",
              "      quickchartButtonEl.classList.add('colab-df-spinner');\n",
              "      try {\n",
              "        const charts = await google.colab.kernel.invokeFunction(\n",
              "            'suggestCharts', [key], {});\n",
              "      } catch (error) {\n",
              "        console.error('Error during call to suggestCharts:', error);\n",
              "      }\n",
              "      quickchartButtonEl.classList.remove('colab-df-spinner');\n",
              "      quickchartButtonEl.classList.add('colab-df-quickchart-complete');\n",
              "    }\n",
              "    (() => {\n",
              "      let quickchartButtonEl =\n",
              "        document.querySelector('#df-07b778b8-d397-4925-950a-9bd1f2fecf7f button');\n",
              "      quickchartButtonEl.style.display =\n",
              "        google.colab.kernel.accessAllowed ? 'block' : 'none';\n",
              "    })();\n",
              "  </script>\n",
              "</div>\n",
              "\n",
              "    </div>\n",
              "  </div>\n"
            ],
            "text/plain": [
              "                                               input  \\\n",
              "0  I have so many issues to address. I have a his...   \n",
              "1  I have so many issues to address. I have a his...   \n",
              "2  I have so many issues to address. I have a his...   \n",
              "3  I have so many issues to address. I have a his...   \n",
              "4  I have so many issues to address. I have a his...   \n",
              "\n",
              "                                              output  \n",
              "0  It is very common for people to have multiple ...  \n",
              "1  I've never heard of someone having \"too many i...  \n",
              "2  Absolutely not.  I strongly recommending worki...  \n",
              "3  Let me start by saying there are never too man...  \n",
              "4  I just want to acknowledge you for the courage...  "
            ]
          },
          "execution_count": 37,
          "metadata": {},
          "output_type": "execute_result"
        }
      ],
      "source": [
        "# Combine client and therapist data\n",
        "combined_data = pd.concat([client_data[['input']], therapist_data[['output']]], axis=1)\n",
        "\n",
        "# Convert Hugging Face datasets to pandas DataFrames\n",
        "mental_health_chat_df = pd.DataFrame(mental_health_chat['train']) # Access the 'train' split, which contains the data.\n",
        "mental_health_conversations_df = pd.DataFrame(mental_health_conversations['train']) # Access the 'train' split, which contains the data.\n",
        "\n",
        "# Append all datasets\n",
        "final_combined_df = pd.concat([mental_health_chat_df[['input', 'output']],\n",
        "                               mental_health_conversations_df[['input', 'output']],\n",
        "                               combined_data], ignore_index=True)\n",
        "\n",
        "\n",
        "final_combined_df.head()"
      ]
    },
    {
      "cell_type": "code",
      "execution_count": 38,
      "metadata": {
        "colab": {
          "base_uri": "https://localhost:8080/",
          "height": 1000
        },
        "id": "Ac8wtK0nxriP",
        "outputId": "c1448b7b-ac01-4cfc-ec97-cd57b80a1eb0"
      },
      "outputs": [
        {
          "name": "stdout",
          "output_type": "stream",
          "text": [
            "Initial shape: (19929, 2)\n",
            "Non-null input values: 13296\n",
            "Non-null output values: 13505\n",
            "Shape after dropping NAs: (6874, 2)\n",
            "Non-null input values after dropping NAs: 6874\n",
            "Non-null output values after dropping NAs: 6874\n",
            "Shape after dropping duplicates: (4096, 2)\n",
            "Non-null input values after dropping duplicates: 4096\n",
            "Non-null output values after dropping duplicates: 4096\n",
            "Shape after dropping empty strings: (4096, 2)\n",
            "Non-null input values after dropping empty strings: 4096\n",
            "Non-null output values after dropping empty strings: 4096\n",
            "Shape after removing extra white spaces: (4096, 2)\n",
            "Non-null input values after removing whitespaces: 4096\n",
            "Non-null output values after removing whitespaces: 4096\n",
            "Cleaned DataFrame Shape: (4096, 2)\n",
            "Non-null input values after cleaning: 4096\n",
            "Non-null output values after cleaning: 4096\n"
          ]
        },
        {
          "data": {
            "image/png": "[encoded data removed]",
            "text/plain": [
              "<Figure size 1000x600 with 1 Axes>"
            ]
          },
          "metadata": {},
          "output_type": "display_data"
        },
        {
          "name": "stdout",
          "output_type": "stream",
          "text": [
            "Cleaned DataFrame Shape: (4096, 2)\n",
            "Cleaned DataFrame Head:\n",
            "                                               input  \\\n",
            "0  I have so many issues to address. I have a his...   \n",
            "1  I have so many issues to address. I have a his...   \n",
            "2  I have so many issues to address. I have a his...   \n",
            "3  I have so many issues to address. I have a his...   \n",
            "4  I have so many issues to address. I have a his...   \n",
            "\n",
            "                                              output  \n",
            "0  It is very common for people to have multiple ...  \n",
            "1  I've never heard of someone having \"too many i...  \n",
            "2  Absolutely not. I strongly recommending workin...  \n",
            "3  Let me start by saying there are never too man...  \n",
            "4  I just want to acknowledge you for the courage...  \n"
          ]
        }
      ],
      "source": [
        "import matplotlib.pyplot as plt\n",
        "\n",
        "# Data Cleaning function with added bar chart visualization for each step\n",
        "def clean_dataframe_with_chart(df):\n",
        "    # Before cleaning\n",
        "    initial_shape = df.shape\n",
        "    print(f\"Initial shape: {initial_shape}\")\n",
        "    print(f\"Non-null input values: {df['input'].notnull().sum()}\")\n",
        "    print(f\"Non-null output values: {df['output'].notnull().sum()}\")\n",
        "\n",
        "    # 1. Drop rows where either 'input' or 'output' is null\n",
        "    df.dropna(subset=['input', 'output'], inplace=True)\n",
        "    shape_after_na = df.shape\n",
        "    print(f\"Shape after dropping NAs: {shape_after_na}\")\n",
        "    print(f\"Non-null input values after dropping NAs: {df['input'].notnull().sum()}\")\n",
        "    print(f\"Non-null output values after dropping NAs: {df['output'].notnull().sum()}\")\n",
        "\n",
        "    # 2. Remove exact duplicates\n",
        "    df.drop_duplicates(inplace=True)\n",
        "    shape_after_duplicates = df.shape\n",
        "    print(f\"Shape after dropping duplicates: {shape_after_duplicates}\")\n",
        "    print(f\"Non-null input values after dropping duplicates: {df['input'].notnull().sum()}\")\n",
        "    print(f\"Non-null output values after dropping duplicates: {df['output'].notnull().sum()}\")\n",
        "\n",
        "    # 3. Remove rows where 'input' or 'output' are empty strings\n",
        "    df = df[(df['input'] != '') & (df['output'] != '')]\n",
        "    shape_after_empty_strings = df.shape\n",
        "    print(f\"Shape after dropping empty strings: {shape_after_empty_strings}\")\n",
        "    print(f\"Non-null input values after dropping empty strings: {df['input'].notnull().sum()}\")\n",
        "    print(f\"Non-null output values after dropping empty strings: {df['output'].notnull().sum()}\")\n",
        "\n",
        "    # 4. Remove extra white spaces\n",
        "    df['input'] = df['input'].str.strip().replace(r'\\s+', ' ', regex=True)\n",
        "    df['output'] = df['output'].str.strip().replace(r'\\s+', ' ', regex=True)\n",
        "    shape_after_whitespaces = df.shape\n",
        "    print(f\"Shape after removing extra white spaces: {shape_after_whitespaces}\")\n",
        "    print(f\"Non-null input values after removing whitespaces: {df['input'].notnull().sum()}\")\n",
        "    print(f\"Non-null output values after removing whitespaces: {df['output'].notnull().sum()}\")\n",
        "\n",
        "    # 5. Reset index for the cleaned DataFrame\n",
        "    df.reset_index(drop=True, inplace=True)\n",
        "\n",
        "    # After cleaning\n",
        "    final_shape = df.shape\n",
        "    print(f\"Cleaned DataFrame Shape: {final_shape}\")\n",
        "    print(f\"Non-null input values after cleaning: {df['input'].notnull().sum()}\")\n",
        "    print(f\"Non-null output values after cleaning: {df['output'].notnull().sum()}\")\n",
        "\n",
        "    # Plotting the comparison\n",
        "    steps = ['Initial', 'After NAs', 'After Duplicates', 'After Empty Strings', 'After Whitespaces']\n",
        "    shapes = [initial_shape[0], shape_after_na[0], shape_after_duplicates[0], shape_after_empty_strings[0], shape_after_whitespaces[0]]\n",
        "\n",
        "    plt.figure(figsize=(10, 6))\n",
        "    plt.bar(steps, shapes, color=['blue', 'orange', 'green', 'red', 'purple'])\n",
        "    plt.xlabel('Cleaning Steps')\n",
        "    plt.ylabel('Number of Rows')\n",
        "    plt.title('Number of Rows Before and After Each Cleaning Step')\n",
        "    plt.show()\n",
        "\n",
        "    return df\n",
        "\n",
        "# Apply the cleaning function with chart\n",
        "final_combined_df = clean_dataframe_with_chart(final_combined_df)\n",
        "\n",
        "# Output the cleaned DataFrame shape\n",
        "print(\"Cleaned DataFrame Shape:\", final_combined_df.shape)\n",
        "print(\"Cleaned DataFrame Head:\")\n",
        "print(final_combined_df.head())\n"
      ]
    },
    {
      "cell_type": "code",
      "execution_count": 39,
      "metadata": {
        "colab": {
          "base_uri": "https://localhost:8080/"
        },
        "id": "yRk6ssjiwBlI",
        "outputId": "96406eff-0a47-4e80-d35f-602a0907a551"
      },
      "outputs": [
        {
          "name": "stdout",
          "output_type": "stream",
          "text": [
            "Initial shape: (4096, 2)\n",
            "Shape after dropping NAs: (4096, 2)\n",
            "Shape after dropping duplicates: (3379, 2)\n",
            "Shape after dropping empty strings: (3379, 2)\n",
            "Shape after removing extra white spaces: (3379, 2)\n",
            "Cleaned DataFrame Shape: (3379, 2)\n",
            "Cleaned DataFrame Head:\n",
            "                                               input  \\\n",
            "0  I have so many issues to address. I have a his...   \n",
            "1  I have so many issues to address. I have a his...   \n",
            "2  I have so many issues to address. I have a his...   \n",
            "3  I have so many issues to address. I have a his...   \n",
            "4  I have so many issues to address. I have a his...   \n",
            "\n",
            "                                              output  \n",
            "0  It is very common for people to have multiple ...  \n",
            "1  I've never heard of someone having \"too many i...  \n",
            "2  Absolutely not. I strongly recommending workin...  \n",
            "3  Let me start by saying there are never too man...  \n",
            "4  I just want to acknowledge you for the courage...  \n"
          ]
        }
      ],
      "source": [
        "# Data Cleaning\n",
        "def clean_dataframe(df):\n",
        "\n",
        "    print(\"Initial shape:\", df.shape)\n",
        "    # 1. Drop rows where either 'input' or 'output' is null\n",
        "    df.dropna(subset=['input', 'output'], inplace=True)\n",
        "    print(\"Shape after dropping NAs:\", df.shape)\n",
        "\n",
        "    # 2. Remove exact duplicates\n",
        "    df.drop_duplicates(inplace=True)\n",
        "    print(\"Shape after dropping duplicates:\", df.shape)\n",
        "\n",
        "    # 3. Remove rows where 'input' or 'output' are empty strings\n",
        "    df = df[(df['input'] != '') & (df['output'] != '')]\n",
        "    print(\"Shape after dropping empty strings:\", df.shape)\n",
        "\n",
        "    # 4. Remove extra white spaces\n",
        "    df['input'] = df['input'].str.strip().replace(r'\\s+', ' ', regex=True)\n",
        "    df['output'] = df['output'].str.strip().replace(r'\\s+', ' ', regex=True)\n",
        "    print(\"Shape after removing extra white spaces:\", df.shape)\n",
        "\n",
        "    # 5. Reset index for the cleaned DataFrame\n",
        "    df.reset_index(drop=True, inplace=True)\n",
        "\n",
        "\n",
        "    return df\n",
        "\n",
        "final_combined_df = clean_dataframe(final_combined_df)\n",
        "print(\"Cleaned DataFrame Shape:\", final_combined_df.shape)\n",
        "print(\"Cleaned DataFrame Head:\")\n",
        "print(final_combined_df.head())"
      ]
    },
    {
      "cell_type": "code",
      "execution_count": 40,
      "metadata": {
        "colab": {
          "base_uri": "https://localhost:8080/",
          "height": 651
        },
        "id": "_ld_V_Fjwvdq",
        "outputId": "932d4309-8363-4ea3-b349-c0a924b63d8f"
      },
      "outputs": [
        {
          "name": "stdout",
          "output_type": "stream",
          "text": [
            "Initial shape: (3379, 2)\n",
            "Shape after dropping NAs: (3379, 2)\n",
            "Shape after dropping duplicates: (3379, 2)\n",
            "Shape after dropping empty strings: (3379, 2)\n",
            "Shape after removing extra white spaces: (3379, 2)\n"
          ]
        },
        {
          "data": {
            "image/png": "[encoded data removed]",
            "text/plain": [
              "<Figure size 800x600 with 1 Axes>"
            ]
          },
          "metadata": {},
          "output_type": "display_data"
        }
      ],
      "source": [
        "import matplotlib.pyplot as plt\n",
        "\n",
        "# Before cleaning\n",
        "before_cleaning_shape = final_combined_df.shape\n",
        "\n",
        "# Clean the data\n",
        "cleaned_df = clean_dataframe(final_combined_df)\n",
        "\n",
        "# After cleaning\n",
        "after_cleaning_shape = cleaned_df.shape\n",
        "\n",
        "# Plotting the comparison\n",
        "labels = ['Before Cleaning', 'After Cleaning']\n",
        "values = [before_cleaning_shape[0], after_cleaning_shape[0]]  # Number of rows (Shape[0])\n",
        "\n",
        "plt.figure(figsize=(8, 6))\n",
        "plt.bar(labels, values, color=['blue', 'green'])\n",
        "plt.xlabel('Dataset Status')\n",
        "plt.ylabel('Number of Rows')\n",
        "plt.title('Number of Rows Before and After Data Cleaning')\n",
        "plt.show()\n"
      ]
    }
  ],
  "metadata": {
    "colab": {
      "provenance": []
    },
    "kernelspec": {
      "display_name": "Python 3",
      "name": "python3"
    },
    "language_info": {
      "name": "python"
    }
  },
  "nbformat": 4,
  "nbformat_minor": 0
}
