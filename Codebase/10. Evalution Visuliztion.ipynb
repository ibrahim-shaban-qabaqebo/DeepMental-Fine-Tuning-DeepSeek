{
  "cells": [
    {
      "cell_type": "code",
      "source": [
        "import pandas as pd\n",
        "import matplotlib.pyplot as plt\n",
        "\n",
        "# Load the Excel file\n",
        "file_path = \"Finial Evalution Results.xlsx\"\n",
        "xls = pd.ExcelFile(file_path)\n",
        "\n",
        "# Load the relevant sheet\n",
        "df = pd.read_excel(xls, sheet_name='final_evaluation_results (1)')\n",
        "\n",
        "# Set plot style\n",
        "plt.style.use('ggplot')\n",
        "\n",
        "# Extract model names\n",
        "models = df[\"Model\"].unique()\n",
        "\n",
        "# ROUGE Scores Comparison\n",
        "plt.figure(figsize=(10, 6))\n",
        "df.groupby(\"Model\")[['ROUGE-1', 'ROUGE-2', 'ROUGE-L']].mean().plot(kind=\"bar\", figsize=(10, 6))\n",
        "plt.title(\"ROUGE Scores Comparison\")\n",
        "plt.ylabel(\"Score\")\n",
        "plt.xlabel(\"Model\")\n",
        "plt.legend(title=\"ROUGE Metrics\")\n",
        "plt.xticks(rotation=45)\n",
        "plt.show()\n",
        "\n",
        "# BLEU Score Comparison\n",
        "plt.figure(figsize=(8, 5))\n",
        "df.groupby(\"Model\")[\"BLEU\"].mean().plot(kind=\"bar\", color=\"skyblue\", edgecolor=\"black\")\n",
        "plt.title(\"BLEU Score Comparison\")\n",
        "plt.ylabel(\"Score\")\n",
        "plt.xlabel(\"Model\")\n",
        "plt.xticks(rotation=45)\n",
        "plt.show()\n",
        "\n",
        "# BERTScore Comparison (Precision, Recall, F1)\n",
        "df.groupby(\"Model\")[['BERTScore Precision', 'BERTScore Recall', 'BERTScore F1']].mean().plot(kind=\"bar\", figsize=(10, 6))\n",
        "plt.title(\"BERTScore Comparison\")\n",
        "plt.ylabel(\"Score\")\n",
        "plt.xlabel(\"Model\")\n",
        "plt.legend(title=\"BERTScore Metrics\")\n",
        "plt.xticks(rotation=45)\n",
        "plt.show()\n",
        "\n",
        "# Distinct-1 & Distinct-2 Comparison\n",
        "df.groupby(\"Model\")[['Distinct-1', 'Distinct-2']].mean().plot(kind=\"bar\", figsize=(8, 5))\n",
        "plt.title(\"Distinct-1 & Distinct-2 Comparison\")\n",
        "plt.ylabel(\"Score\")\n",
        "plt.xlabel(\"Model\")\n",
        "plt.legend(title=\"Diversity Metrics\")\n",
        "plt.xticks(rotation=45)\n",
        "plt.show()\n",
        "\n",
        "# Line chart comparing BLEU and ROUGE scores across models\n",
        "model_groups = df.groupby(\"Model\")[['BLEU', 'ROUGE-1', 'ROUGE-2', 'ROUGE-L']].mean()\n",
        "\n",
        "plt.figure(figsize=(10, 6))\n",
        "for metric in ['BLEU', 'ROUGE-1', 'ROUGE-2', 'ROUGE-L']:\n",
        "    plt.plot(model_groups.index, model_groups[metric], marker='o', label=metric)\n",
        "\n",
        "plt.title(\"BLEU-N and ROUGE Scores Comparison Across Models\")\n",
        "plt.xlabel(\"Model\")\n",
        "plt.ylabel(\"Score\")\n",
        "plt.legend(title=\"Metrics\")\n",
        "plt.grid(True)\n",
        "plt.xticks(rotation=45)\n",
        "plt.show()\n"
      ],
      "outputs": [],
      "execution_count": null,
      "metadata": {}
    }
  ],
  "metadata": {
    "kernelspec": {
      "display_name": "Python 3.10 - SDK v2",
      "language": "python",
      "name": "python310-sdkv2"
    },
    "language_info": {
      "codemirror_mode": {
        "name": "ipython",
        "version": 3
      },
      "file_extension": ".py",
      "mimetype": "text/x-python",
      "name": "python",
      "nbconvert_exporter": "python",
      "pygments_lexer": "ipython3",
      "version": "3.10.6"
    },
    "microsoft": {
      "ms_spell_check": {
        "ms_spell_check_language": "en"
      }
    },
    "nteract": {
      "version": "nteract-front-end@1.0.0"
    }
  },
  "nbformat": 4,
  "nbformat_minor": 2
}